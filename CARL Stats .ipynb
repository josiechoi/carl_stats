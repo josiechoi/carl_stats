{
 "cells": [
  {
   "cell_type": "code",
   "execution_count": 101,
   "metadata": {},
   "outputs": [],
   "source": [
    "import pandas as pd"
   ]
  },
  {
   "cell_type": "code",
   "execution_count": 181,
   "metadata": {},
   "outputs": [],
   "source": [
    "df1=pd.read_excel(\"CARL Stats.xlsx\", sheet_name='FY17-18')\n",
    "df2=pd.read_excel(\"CARL Stats.xlsx\", sheet_name='FY16-17')\n",
    "df3=pd.read_excel(\"CARL Stats.xlsx\", sheet_name='FY15-16')\n",
    "df4=pd.read_excel(\"CARL Stats.xlsx\", sheet_name='FY14-15')\n",
    "df5=pd.read_excel(\"CARL Stats.xlsx\", sheet_name='FY13-14')"
   ]
  },
  {
   "cell_type": "code",
   "execution_count": 182,
   "metadata": {},
   "outputs": [
    {
     "name": "stdout",
     "output_type": "stream",
     "text": [
      "<class 'pandas.core.frame.DataFrame'>\n",
      "RangeIndex: 33 entries, 0 to 32\n",
      "Data columns (total 29 columns):\n",
      " #   Column                              Non-Null Count  Dtype \n",
      "---  ------                              --------------  ----- \n",
      " 0   Institution                         31 non-null     object\n",
      " 1   Year Start                          33 non-null     object\n",
      " 2   Year End                            33 non-null     object\n",
      " 3   Titles held (all formats)           33 non-null     object\n",
      " 4   One time resource purchases         33 non-null     object\n",
      " 5   Ongoing resource purchases          33 non-null     object\n",
      " 6   Collection support                  33 non-null     object\n",
      " 7   Total library materials             33 non-null     object\n",
      " 8   Professional staff                  33 non-null     object\n",
      " 9   Support staff                       33 non-null     object\n",
      " 10  Casual staff                        33 non-null     object\n",
      " 11  Total staffing expenditures         33 non-null     object\n",
      " 12  Fringe benefits                     33 non-null     object\n",
      " 13  Other operating expenditures        33 non-null     object\n",
      " 14  Total library expenditures          33 non-null     object\n",
      " 15  Librarians FTE                      33 non-null     object\n",
      " 16  Other professionals FTE             33 non-null     object\n",
      " 17  Total professionals FTE             33 non-null     object\n",
      " 18  Support staff FTE                   33 non-null     object\n",
      " 19  Casual staff FTE                    33 non-null     object\n",
      " 20  Total staff FTE                     33 non-null     object\n",
      " 21  Fringe benefits included            33 non-null     object\n",
      " 22  Law Library included                33 non-null     object\n",
      " 23  Medical library included            33 non-null     object\n",
      " 24  Number of undergraduate FTE         33 non-null     object\n",
      " 25  Number of graduate FTE              33 non-null     object\n",
      " 26  Total enrolment FTE                 33 non-null     object\n",
      " 27  List all libraries included         32 non-null     object\n",
      " 28  FIUC Data (CAUBO) available online  33 non-null     object\n",
      "dtypes: object(29)\n",
      "memory usage: 7.6+ KB\n"
     ]
    }
   ],
   "source": [
    "df1.info()"
   ]
  },
  {
   "cell_type": "code",
   "execution_count": 183,
   "metadata": {},
   "outputs": [],
   "source": [
    "def clean_db(FY,df=None):\n",
    "    df=df.iloc[2:,:]\n",
    "    df=df.melt(id_vars=['Institution','Year Start','Year End','Fringe benefits included','Law Library included','Medical library included','List all libraries included'])\n",
    "    df.columns=['Institution','Year Start','Year End','Fringe benefits included','Law Library included','Medical library included','List all libraries included','Category','Total']\n",
    "    df['Total']=df['Total'].replace('k','000')\n",
    "    df['Total']=df['Total'].replace('$','')\n",
    "    df['Total']=df['Total'].replace(',','')\n",
    "    #df['Total']=pd.to_numeric(df['Total'])\n",
    "    \n",
    "    df['Year Start']=df['Year Start'].replace('N/R',None)\n",
    "    df['Year End']=df['Year End'].replace('N/R',None)\n",
    "    df['Year Start']=pd.to_datetime(df['Year Start'])\n",
    "    df['Year End']=pd.to_datetime(df['Year End'])\n",
    "    df['Fiscal Year']=FY    \n",
    "    return df"
   ]
  },
  {
   "cell_type": "code",
   "execution_count": 184,
   "metadata": {},
   "outputs": [
    {
     "name": "stdout",
     "output_type": "stream",
     "text": [
      "<class 'pandas.core.frame.DataFrame'>\n",
      "RangeIndex: 682 entries, 0 to 681\n",
      "Data columns (total 10 columns):\n",
      " #   Column                       Non-Null Count  Dtype         \n",
      "---  ------                       --------------  -----         \n",
      " 0   Institution                  682 non-null    object        \n",
      " 1   Year Start                   682 non-null    datetime64[ns]\n",
      " 2   Year End                     682 non-null    datetime64[ns]\n",
      " 3   Fringe benefits included     682 non-null    object        \n",
      " 4   Law Library included         682 non-null    object        \n",
      " 5   Medical library included     682 non-null    object        \n",
      " 6   List all libraries included  660 non-null    object        \n",
      " 7   Category                     682 non-null    object        \n",
      " 8   Total                        682 non-null    object        \n",
      " 9   Fiscal Year                  682 non-null    object        \n",
      "dtypes: datetime64[ns](2), object(8)\n",
      "memory usage: 53.4+ KB\n"
     ]
    }
   ],
   "source": [
    "df1=clean_db('FY17-18',df1)\n",
    "df2=clean_db('FY16-17',df2)\n",
    "df3=clean_db('FY15-16',df3)\n",
    "df4=clean_db('FY14-15',df4)\n",
    "df5=clean_db('FY13-14',df5)\n",
    "df1.info()"
   ]
  },
  {
   "cell_type": "code",
   "execution_count": 185,
   "metadata": {},
   "outputs": [
    {
     "name": "stdout",
     "output_type": "stream",
     "text": [
      "<class 'pandas.core.frame.DataFrame'>\n",
      "RangeIndex: 682 entries, 0 to 681\n",
      "Data columns (total 10 columns):\n",
      " #   Column                       Non-Null Count  Dtype         \n",
      "---  ------                       --------------  -----         \n",
      " 0   Institution                  682 non-null    object        \n",
      " 1   Year Start                   682 non-null    datetime64[ns]\n",
      " 2   Year End                     682 non-null    datetime64[ns]\n",
      " 3   Fringe benefits included     682 non-null    object        \n",
      " 4   Law Library included         682 non-null    object        \n",
      " 5   Medical library included     682 non-null    object        \n",
      " 6   List all libraries included  660 non-null    object        \n",
      " 7   Category                     682 non-null    object        \n",
      " 8   Total                        676 non-null    object        \n",
      " 9   Fiscal Year                  682 non-null    object        \n",
      "dtypes: datetime64[ns](2), object(8)\n",
      "memory usage: 53.4+ KB\n"
     ]
    }
   ],
   "source": [
    "df3.info()"
   ]
  },
  {
   "cell_type": "code",
   "execution_count": 186,
   "metadata": {},
   "outputs": [
    {
     "name": "stdout",
     "output_type": "stream",
     "text": [
      "<class 'pandas.core.frame.DataFrame'>\n",
      "Int64Index: 3410 entries, 0 to 681\n",
      "Data columns (total 10 columns):\n",
      " #   Column                       Non-Null Count  Dtype         \n",
      "---  ------                       --------------  -----         \n",
      " 0   Institution                  3410 non-null   object        \n",
      " 1   Year Start                   3410 non-null   datetime64[ns]\n",
      " 2   Year End                     3410 non-null   datetime64[ns]\n",
      " 3   Fringe benefits included     3410 non-null   object        \n",
      " 4   Law Library included         3410 non-null   object        \n",
      " 5   Medical library included     3410 non-null   object        \n",
      " 6   List all libraries included  3190 non-null   object        \n",
      " 7   Category                     3410 non-null   object        \n",
      " 8   Total                        3386 non-null   object        \n",
      " 9   Fiscal Year                  3410 non-null   object        \n",
      "dtypes: datetime64[ns](2), object(8)\n",
      "memory usage: 293.0+ KB\n"
     ]
    }
   ],
   "source": [
    "df=pd.concat([df1,df2,df3,df4,df5])\n",
    "df.info()"
   ]
  },
  {
   "cell_type": "code",
   "execution_count": 1,
   "metadata": {},
   "outputs": [],
   "source": [
    "#df.head()\n"
   ]
  },
  {
   "cell_type": "code",
   "execution_count": 189,
   "metadata": {},
   "outputs": [],
   "source": [
    "df.to_excel('carl.xlsx')"
   ]
  },
  {
   "cell_type": "code",
   "execution_count": null,
   "metadata": {},
   "outputs": [],
   "source": []
  },
  {
   "cell_type": "code",
   "execution_count": null,
   "metadata": {},
   "outputs": [],
   "source": []
  }
 ],
 "metadata": {
  "kernelspec": {
   "display_name": "Python 3",
   "language": "python",
   "name": "python3"
  },
  "language_info": {
   "codemirror_mode": {
    "name": "ipython",
    "version": 3
   },
   "file_extension": ".py",
   "mimetype": "text/x-python",
   "name": "python",
   "nbconvert_exporter": "python",
   "pygments_lexer": "ipython3",
   "version": "3.8.3"
  }
 },
 "nbformat": 4,
 "nbformat_minor": 4
}
